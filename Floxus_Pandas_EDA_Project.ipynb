{
  "nbformat": 4,
  "nbformat_minor": 0,
  "metadata": {
    "colab": {
      "name": "Floxus: Pandas Project.ipynb",
      "provenance": []
    },
    "kernelspec": {
      "name": "python3",
      "display_name": "Python 3"
    },
    "language_info": {
      "name": "python"
    }
  },
  "cells": [
    {
      "cell_type": "markdown",
      "source": [
        "**EDA on Insurance Dataset**"
      ],
      "metadata": {
        "id": "YSbI0SUzkPtZ"
      }
    },
    {
      "cell_type": "code",
      "execution_count": 169,
      "metadata": {
        "id": "yvHn2HDsMv-f"
      },
      "outputs": [],
      "source": [
        "#Importing pandas\n",
        "import pandas as pd"
      ]
    },
    {
      "cell_type": "code",
      "source": [
        "#Importing the dataset\n",
        "df=pd.read_csv('insurance.csv')\n",
        "df.head()"
      ],
      "metadata": {
        "colab": {
          "base_uri": "https://localhost:8080/",
          "height": 206
        },
        "id": "wXqKFr82N1tl",
        "outputId": "5c342069-fdab-4d2d-b653-03385e21199f"
      },
      "execution_count": 170,
      "outputs": [
        {
          "output_type": "execute_result",
          "data": {
            "text/plain": [
              "    age     sex     bmi  children smoker     region      charges\n",
              "0  19.0  female  27.900       0.0    yes  southwest  16884.92400\n",
              "1  18.0    male  33.770       1.0     no  southeast   1725.55230\n",
              "2  28.0    male  33.000       3.0     no  southeast   4449.46200\n",
              "3  33.0    male  22.705       0.0     no  northwest  21984.47061\n",
              "4  32.0    male  28.880       0.0     no  northwest   3866.85520"
            ],
            "text/html": [
              "\n",
              "  <div id=\"df-7dfe497b-283b-43c1-86b3-c726e63805b2\">\n",
              "    <div class=\"colab-df-container\">\n",
              "      <div>\n",
              "<style scoped>\n",
              "    .dataframe tbody tr th:only-of-type {\n",
              "        vertical-align: middle;\n",
              "    }\n",
              "\n",
              "    .dataframe tbody tr th {\n",
              "        vertical-align: top;\n",
              "    }\n",
              "\n",
              "    .dataframe thead th {\n",
              "        text-align: right;\n",
              "    }\n",
              "</style>\n",
              "<table border=\"1\" class=\"dataframe\">\n",
              "  <thead>\n",
              "    <tr style=\"text-align: right;\">\n",
              "      <th></th>\n",
              "      <th>age</th>\n",
              "      <th>sex</th>\n",
              "      <th>bmi</th>\n",
              "      <th>children</th>\n",
              "      <th>smoker</th>\n",
              "      <th>region</th>\n",
              "      <th>charges</th>\n",
              "    </tr>\n",
              "  </thead>\n",
              "  <tbody>\n",
              "    <tr>\n",
              "      <th>0</th>\n",
              "      <td>19.0</td>\n",
              "      <td>female</td>\n",
              "      <td>27.900</td>\n",
              "      <td>0.0</td>\n",
              "      <td>yes</td>\n",
              "      <td>southwest</td>\n",
              "      <td>16884.92400</td>\n",
              "    </tr>\n",
              "    <tr>\n",
              "      <th>1</th>\n",
              "      <td>18.0</td>\n",
              "      <td>male</td>\n",
              "      <td>33.770</td>\n",
              "      <td>1.0</td>\n",
              "      <td>no</td>\n",
              "      <td>southeast</td>\n",
              "      <td>1725.55230</td>\n",
              "    </tr>\n",
              "    <tr>\n",
              "      <th>2</th>\n",
              "      <td>28.0</td>\n",
              "      <td>male</td>\n",
              "      <td>33.000</td>\n",
              "      <td>3.0</td>\n",
              "      <td>no</td>\n",
              "      <td>southeast</td>\n",
              "      <td>4449.46200</td>\n",
              "    </tr>\n",
              "    <tr>\n",
              "      <th>3</th>\n",
              "      <td>33.0</td>\n",
              "      <td>male</td>\n",
              "      <td>22.705</td>\n",
              "      <td>0.0</td>\n",
              "      <td>no</td>\n",
              "      <td>northwest</td>\n",
              "      <td>21984.47061</td>\n",
              "    </tr>\n",
              "    <tr>\n",
              "      <th>4</th>\n",
              "      <td>32.0</td>\n",
              "      <td>male</td>\n",
              "      <td>28.880</td>\n",
              "      <td>0.0</td>\n",
              "      <td>no</td>\n",
              "      <td>northwest</td>\n",
              "      <td>3866.85520</td>\n",
              "    </tr>\n",
              "  </tbody>\n",
              "</table>\n",
              "</div>\n",
              "      <button class=\"colab-df-convert\" onclick=\"convertToInteractive('df-7dfe497b-283b-43c1-86b3-c726e63805b2')\"\n",
              "              title=\"Convert this dataframe to an interactive table.\"\n",
              "              style=\"display:none;\">\n",
              "        \n",
              "  <svg xmlns=\"http://www.w3.org/2000/svg\" height=\"24px\"viewBox=\"0 0 24 24\"\n",
              "       width=\"24px\">\n",
              "    <path d=\"M0 0h24v24H0V0z\" fill=\"none\"/>\n",
              "    <path d=\"M18.56 5.44l.94 2.06.94-2.06 2.06-.94-2.06-.94-.94-2.06-.94 2.06-2.06.94zm-11 1L8.5 8.5l.94-2.06 2.06-.94-2.06-.94L8.5 2.5l-.94 2.06-2.06.94zm10 10l.94 2.06.94-2.06 2.06-.94-2.06-.94-.94-2.06-.94 2.06-2.06.94z\"/><path d=\"M17.41 7.96l-1.37-1.37c-.4-.4-.92-.59-1.43-.59-.52 0-1.04.2-1.43.59L10.3 9.45l-7.72 7.72c-.78.78-.78 2.05 0 2.83L4 21.41c.39.39.9.59 1.41.59.51 0 1.02-.2 1.41-.59l7.78-7.78 2.81-2.81c.8-.78.8-2.07 0-2.86zM5.41 20L4 18.59l7.72-7.72 1.47 1.35L5.41 20z\"/>\n",
              "  </svg>\n",
              "      </button>\n",
              "      \n",
              "  <style>\n",
              "    .colab-df-container {\n",
              "      display:flex;\n",
              "      flex-wrap:wrap;\n",
              "      gap: 12px;\n",
              "    }\n",
              "\n",
              "    .colab-df-convert {\n",
              "      background-color: #E8F0FE;\n",
              "      border: none;\n",
              "      border-radius: 50%;\n",
              "      cursor: pointer;\n",
              "      display: none;\n",
              "      fill: #1967D2;\n",
              "      height: 32px;\n",
              "      padding: 0 0 0 0;\n",
              "      width: 32px;\n",
              "    }\n",
              "\n",
              "    .colab-df-convert:hover {\n",
              "      background-color: #E2EBFA;\n",
              "      box-shadow: 0px 1px 2px rgba(60, 64, 67, 0.3), 0px 1px 3px 1px rgba(60, 64, 67, 0.15);\n",
              "      fill: #174EA6;\n",
              "    }\n",
              "\n",
              "    [theme=dark] .colab-df-convert {\n",
              "      background-color: #3B4455;\n",
              "      fill: #D2E3FC;\n",
              "    }\n",
              "\n",
              "    [theme=dark] .colab-df-convert:hover {\n",
              "      background-color: #434B5C;\n",
              "      box-shadow: 0px 1px 3px 1px rgba(0, 0, 0, 0.15);\n",
              "      filter: drop-shadow(0px 1px 2px rgba(0, 0, 0, 0.3));\n",
              "      fill: #FFFFFF;\n",
              "    }\n",
              "  </style>\n",
              "\n",
              "      <script>\n",
              "        const buttonEl =\n",
              "          document.querySelector('#df-7dfe497b-283b-43c1-86b3-c726e63805b2 button.colab-df-convert');\n",
              "        buttonEl.style.display =\n",
              "          google.colab.kernel.accessAllowed ? 'block' : 'none';\n",
              "\n",
              "        async function convertToInteractive(key) {\n",
              "          const element = document.querySelector('#df-7dfe497b-283b-43c1-86b3-c726e63805b2');\n",
              "          const dataTable =\n",
              "            await google.colab.kernel.invokeFunction('convertToInteractive',\n",
              "                                                     [key], {});\n",
              "          if (!dataTable) return;\n",
              "\n",
              "          const docLinkHtml = 'Like what you see? Visit the ' +\n",
              "            '<a target=\"_blank\" href=https://colab.research.google.com/notebooks/data_table.ipynb>data table notebook</a>'\n",
              "            + ' to learn more about interactive tables.';\n",
              "          element.innerHTML = '';\n",
              "          dataTable['output_type'] = 'display_data';\n",
              "          await google.colab.output.renderOutput(dataTable, element);\n",
              "          const docLink = document.createElement('div');\n",
              "          docLink.innerHTML = docLinkHtml;\n",
              "          element.appendChild(docLink);\n",
              "        }\n",
              "      </script>\n",
              "    </div>\n",
              "  </div>\n",
              "  "
            ]
          },
          "metadata": {},
          "execution_count": 170
        }
      ]
    },
    {
      "cell_type": "code",
      "source": [
        "#Info about dataset\n",
        "df.info"
      ],
      "metadata": {
        "colab": {
          "base_uri": "https://localhost:8080/"
        },
        "id": "hLLWDAmRkgOK",
        "outputId": "d4ecf4c7-626f-47dd-e3eb-085e55d9e256"
      },
      "execution_count": 171,
      "outputs": [
        {
          "output_type": "execute_result",
          "data": {
            "text/plain": [
              "<bound method DataFrame.info of        age     sex     bmi  children smoker     region      charges\n",
              "0     19.0  female  27.900       0.0    yes  southwest  16884.92400\n",
              "1     18.0    male  33.770       1.0     no  southeast   1725.55230\n",
              "2     28.0    male  33.000       3.0     no  southeast   4449.46200\n",
              "3     33.0    male  22.705       0.0     no  northwest  21984.47061\n",
              "4     32.0    male  28.880       0.0     no  northwest   3866.85520\n",
              "...    ...     ...     ...       ...    ...        ...          ...\n",
              "1333  50.0    male  30.970       3.0     no  northwest  10600.54830\n",
              "1334  18.0  female  31.920       0.0     no  northeast   2205.98080\n",
              "1335  18.0  female  36.850       0.0     no  southeast   1629.83350\n",
              "1336  21.0  female  25.800       0.0     no  southwest   2007.94500\n",
              "1337  61.0  female  29.070       0.0    yes  northwest  29141.36030\n",
              "\n",
              "[1338 rows x 7 columns]>"
            ]
          },
          "metadata": {},
          "execution_count": 171
        }
      ]
    },
    {
      "cell_type": "code",
      "source": [
        "#Description of the dataset\n",
        "df.describe"
      ],
      "metadata": {
        "colab": {
          "base_uri": "https://localhost:8080/"
        },
        "id": "p3Rz5urJklWH",
        "outputId": "a83ed868-ccb8-401b-e44b-6bc26467c5ba"
      },
      "execution_count": 172,
      "outputs": [
        {
          "output_type": "execute_result",
          "data": {
            "text/plain": [
              "<bound method NDFrame.describe of        age     sex     bmi  children smoker     region      charges\n",
              "0     19.0  female  27.900       0.0    yes  southwest  16884.92400\n",
              "1     18.0    male  33.770       1.0     no  southeast   1725.55230\n",
              "2     28.0    male  33.000       3.0     no  southeast   4449.46200\n",
              "3     33.0    male  22.705       0.0     no  northwest  21984.47061\n",
              "4     32.0    male  28.880       0.0     no  northwest   3866.85520\n",
              "...    ...     ...     ...       ...    ...        ...          ...\n",
              "1333  50.0    male  30.970       3.0     no  northwest  10600.54830\n",
              "1334  18.0  female  31.920       0.0     no  northeast   2205.98080\n",
              "1335  18.0  female  36.850       0.0     no  southeast   1629.83350\n",
              "1336  21.0  female  25.800       0.0     no  southwest   2007.94500\n",
              "1337  61.0  female  29.070       0.0    yes  northwest  29141.36030\n",
              "\n",
              "[1338 rows x 7 columns]>"
            ]
          },
          "metadata": {},
          "execution_count": 172
        }
      ]
    },
    {
      "cell_type": "code",
      "source": [
        "#Checking for columns with null values\n",
        "df.columns[df.isnull().any()]"
      ],
      "metadata": {
        "colab": {
          "base_uri": "https://localhost:8080/"
        },
        "id": "Yon4M43tORB3",
        "outputId": "8b0b43c5-5d81-4002-e4ae-7d34f4d30607"
      },
      "execution_count": 173,
      "outputs": [
        {
          "output_type": "execute_result",
          "data": {
            "text/plain": [
              "Index(['age', 'sex', 'bmi', 'children', 'smoker', 'region', 'charges'], dtype='object')"
            ]
          },
          "metadata": {},
          "execution_count": 173
        }
      ]
    },
    {
      "cell_type": "code",
      "source": [
        "#Checking the frequency of null values\n",
        "print(\"Null value count across the dataset\")\n",
        "df.isnull().sum()"
      ],
      "metadata": {
        "colab": {
          "base_uri": "https://localhost:8080/"
        },
        "id": "HHtU9G-uTSy4",
        "outputId": "1b78c230-1e2c-4e27-adf1-9464beee5925"
      },
      "execution_count": 174,
      "outputs": [
        {
          "output_type": "stream",
          "name": "stdout",
          "text": [
            "Null value count across the dataset\n"
          ]
        },
        {
          "output_type": "execute_result",
          "data": {
            "text/plain": [
              "age         26\n",
              "sex         66\n",
              "bmi         75\n",
              "children    82\n",
              "smoker      59\n",
              "region      51\n",
              "charges     23\n",
              "dtype: int64"
            ]
          },
          "metadata": {},
          "execution_count": 174
        }
      ]
    },
    {
      "cell_type": "code",
      "source": [
        "#Row with null values before null value elimination\n",
        "df.loc[78]"
      ],
      "metadata": {
        "colab": {
          "base_uri": "https://localhost:8080/"
        },
        "id": "LidoQoyCjdHo",
        "outputId": "0d79aa50-5ec2-4ae8-fb2c-f1c94b5bfea7"
      },
      "execution_count": 175,
      "outputs": [
        {
          "output_type": "execute_result",
          "data": {
            "text/plain": [
              "age                NaN\n",
              "sex                NaN\n",
              "bmi                NaN\n",
              "children           NaN\n",
              "smoker             NaN\n",
              "region       northeast\n",
              "charges     2755.02095\n",
              "Name: 78, dtype: object"
            ]
          },
          "metadata": {},
          "execution_count": 175
        }
      ]
    },
    {
      "cell_type": "markdown",
      "source": [
        "*Using the Column Median method to replace the null values in columns with continous data*"
      ],
      "metadata": {
        "id": "qwDA9CoIlLGz"
      }
    },
    {
      "cell_type": "code",
      "source": [
        "#Getting the columns with continious data\n",
        "numeric_cols = df._get_numeric_data().columns\n",
        "numeric_cols_range  = numeric_cols.size\n",
        "print(numeric_cols)\n",
        "print(numeric_cols_range)"
      ],
      "metadata": {
        "colab": {
          "base_uri": "https://localhost:8080/"
        },
        "id": "niNPYy6iTaQD",
        "outputId": "a97ecde6-8581-46d5-9dce-2a654b831431"
      },
      "execution_count": 176,
      "outputs": [
        {
          "output_type": "stream",
          "name": "stdout",
          "text": [
            "Index(['age', 'bmi', 'children', 'charges'], dtype='object')\n",
            "4\n"
          ]
        }
      ]
    },
    {
      "cell_type": "code",
      "source": [
        "#Defining a function for filling null values in these columns with their median values\n",
        "def replace_med(col):\n",
        "  df[col].fillna(df[col].median(),inplace=True)"
      ],
      "metadata": {
        "id": "TrFOnk4TWTb7"
      },
      "execution_count": 177,
      "outputs": []
    },
    {
      "cell_type": "code",
      "source": [
        "#Calling the function on each of the numeric columns\n",
        "for i in range(numeric_cols_range):\n",
        "    replace_med(numeric_cols[i])"
      ],
      "metadata": {
        "id": "EVROUna1W6uO"
      },
      "execution_count": 178,
      "outputs": []
    },
    {
      "cell_type": "code",
      "source": [
        "print(\"Null values in the numeric columns\")\n",
        "for i in range(numeric_cols_range):\n",
        "    print(numeric_cols[i],\": \",df[numeric_cols[i]].isnull().sum())"
      ],
      "metadata": {
        "colab": {
          "base_uri": "https://localhost:8080/"
        },
        "id": "KLS1O0Pzamsq",
        "outputId": "1fd5a7c4-5aef-4b95-a9cb-1acbf0858e7b"
      },
      "execution_count": 179,
      "outputs": [
        {
          "output_type": "stream",
          "name": "stdout",
          "text": [
            "Null values in the numeric columns\n",
            "age :  0\n",
            "bmi :  0\n",
            "children :  0\n",
            "charges :  0\n"
          ]
        }
      ]
    },
    {
      "cell_type": "markdown",
      "source": [
        "*Using the Column Mode method to replace the null values in columns with categorical data*"
      ],
      "metadata": {
        "id": "FxAZY6_llfkT"
      }
    },
    {
      "cell_type": "code",
      "source": [
        "#Getting the columns with the categorical data\n",
        "cat_cols = df.select_dtypes(include=['object']).columns.tolist()\n",
        "print(cat_cols)"
      ],
      "metadata": {
        "colab": {
          "base_uri": "https://localhost:8080/"
        },
        "id": "uFFtp5oQcAU2",
        "outputId": "5d557446-8bd8-4731-93e1-8dda7f99c855"
      },
      "execution_count": 180,
      "outputs": [
        {
          "output_type": "stream",
          "name": "stdout",
          "text": [
            "['sex', 'smoker', 'region']\n"
          ]
        }
      ]
    },
    {
      "cell_type": "code",
      "source": [
        "#Defining a function to replaces the null values with mode of the columns\n",
        "def replace_mode(col):\n",
        "  df[col].fillna(value=df[col].mode()[0], inplace=True)"
      ],
      "metadata": {
        "id": "fYYdVlMFcH6-"
      },
      "execution_count": 181,
      "outputs": []
    },
    {
      "cell_type": "code",
      "source": [
        "#Calling the function on the categorical columns\n",
        "for i in range(len(cat_cols)):\n",
        "  replace_mode(cat_cols[i])"
      ],
      "metadata": {
        "id": "VQJansuKhxnB"
      },
      "execution_count": 182,
      "outputs": []
    },
    {
      "cell_type": "code",
      "source": [
        "print(\"Null values in the categorical columns\")\n",
        "for i in range(len(cat_cols)):\n",
        "    print(cat_cols[i],\": \",df[cat_cols[i]].isnull().sum())"
      ],
      "metadata": {
        "colab": {
          "base_uri": "https://localhost:8080/"
        },
        "id": "mhAMTe4AiVZL",
        "outputId": "6d543084-292d-41c6-b832-7564b141279a"
      },
      "execution_count": 183,
      "outputs": [
        {
          "output_type": "stream",
          "name": "stdout",
          "text": [
            "Null values in the categorical columns\n",
            "sex :  0\n",
            "smoker :  0\n",
            "region :  0\n"
          ]
        }
      ]
    },
    {
      "cell_type": "markdown",
      "source": [
        "*Final test after null values are removed*"
      ],
      "metadata": {
        "id": "0KS4cqosloCT"
      }
    },
    {
      "cell_type": "code",
      "source": [
        "#Checking the null values in the whole dataset now\n",
        "print(\"Null value count across the dataset\")\n",
        "df.isnull().sum()"
      ],
      "metadata": {
        "colab": {
          "base_uri": "https://localhost:8080/"
        },
        "id": "PzKUBD6yiq9H",
        "outputId": "d9032b39-13f1-4d65-e8cf-983514e47d9b"
      },
      "execution_count": 184,
      "outputs": [
        {
          "output_type": "stream",
          "name": "stdout",
          "text": [
            "Null value count across the dataset\n"
          ]
        },
        {
          "output_type": "execute_result",
          "data": {
            "text/plain": [
              "age         0\n",
              "sex         0\n",
              "bmi         0\n",
              "children    0\n",
              "smoker      0\n",
              "region      0\n",
              "charges     0\n",
              "dtype: int64"
            ]
          },
          "metadata": {},
          "execution_count": 184
        }
      ]
    },
    {
      "cell_type": "code",
      "source": [
        "#Row with null values after null value elimination\n",
        "df.loc[78]"
      ],
      "metadata": {
        "colab": {
          "base_uri": "https://localhost:8080/"
        },
        "id": "uWggpRdsi4Nj",
        "outputId": "c6cd2eef-d13e-4a39-b117-916c113d15c6"
      },
      "execution_count": 185,
      "outputs": [
        {
          "output_type": "execute_result",
          "data": {
            "text/plain": [
              "age               39.0\n",
              "sex               male\n",
              "bmi               30.4\n",
              "children           1.0\n",
              "smoker              no\n",
              "region       northeast\n",
              "charges     2755.02095\n",
              "Name: 78, dtype: object"
            ]
          },
          "metadata": {},
          "execution_count": 185
        }
      ]
    }
  ]
}